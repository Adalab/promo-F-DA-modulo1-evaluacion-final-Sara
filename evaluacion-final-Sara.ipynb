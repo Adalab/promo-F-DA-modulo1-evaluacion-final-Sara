{
 "cells": [
  {
   "cell_type": "markdown",
   "metadata": {},
   "source": [
    "# Evaluación Final\n",
    "\n",
    "## Ejercicio\n",
    "\n",
    "A lo largo de esta evaluación tendrás que crear una clase llamada TiendaOnline que cumpla los\n",
    "siguientes requisitos:"
   ]
  },
  {
   "cell_type": "markdown",
   "metadata": {},
   "source": [
    "La clase TiendaOnline debe tener los siguientes **atributos**:\n",
    "\n",
    "        1. inventario (lista de diccionarios): Un atributo para almacenar los productos en el\n",
    "        inventario. Cada producto debe ser representado como un diccionario con las siguientes\n",
    "        claves: 'nombre' , 'precio' , y 'cantidad' . Al principio deberá ser una lista vacía.\n",
    "        Ejemplo de como debería ser:\n",
    "        [{'nombre': 'Camisa', 'precio': 20, 'cantidad': 40},\n",
    "        {'nombre': 'Pantalón', 'precio': 30, 'cantidad': 30}]  \n",
    "\n",
    "        2. clientes (diccionario de diccionarios): Un atributo para llevar un registro de los clientes de la tienda.\n",
    "        Cada cliente debe ser representado como un diccionario con las siguientes claves:\n",
    "        'nombre' y 'email' . Al inicio deberá ser un diccionario vacío. Además, cada cliente\n",
    "        debe tener un historial de compras. Deberá parecerse a:\n",
    "        {'Cliente1': {'email': 'cliente1@email.com', 'compras': []},\n",
    "        'Cliente2': {'email': 'cliente2@email.com', 'compras': []}}  \n",
    "\n",
    "        3. ventas_totales (float): Un atributo para llevar un registro de las ventas totales de la\n",
    "        tienda. Inicializalo con valor 0."
   ]
  },
  {
   "cell_type": "code",
   "execution_count": 55,
   "metadata": {},
   "outputs": [],
   "source": [
    "import re\n",
    "\n",
    "class TiendaOnline:\n",
    "\n",
    "    #constructor\n",
    "    def __init__(self, nombre, inventario = [], clientes = {}, ventas_totales = 0.0):\n",
    "        self.nombre = nombre\n",
    "        self.inventario = inventario\n",
    "        self.clientes = clientes\n",
    "        self.ventas_totales = ventas_totales\n",
    "\n",
    "    # Validar si el producto existe en el invetario. \n",
    "    def producto_existe (self, nombre):\n",
    "        # Crea una lista con 1 diccionario en caso de que el producto ya exista en el inventario.\n",
    "        producto = [producto for producto in self.inventario if producto['nombre'].lower() == nombre.lower()]\n",
    "        \n",
    "        # si el producto existe (se ha creado la lista producto con un elemento), se le suma la cantidad\n",
    "        if len(producto) >=1:\n",
    "            return producto[0]\n",
    "        else:\n",
    "            False    \n",
    "\n",
    "# La clase TiendaOnline debe tener los siguientes métodos:\n",
    "\n",
    "# 1. agregar_producto(self, nombre, precio, cantidad) : Este método agrega un producto al inventario o actualiza su cantidad si ya existe. Debe recibir el nombre, precio y cantidad del producto como parámetros.\n",
    "    # Itera a través del inventario y compara los nombres de los productos con el nombre proporcionado.\n",
    "    # Si el producto ya existe, actualiza la cantidad.\n",
    "    # Si no existe, agrega un nuevo producto al inventario.\n",
    "    \n",
    "    # inventario =  [{'nombre': 'Camisa', 'precio': 20, 'cantidad': 40}, {'nombre': 'Pantalón', 'precio': 30, 'cantidad': 30}]  \n",
    "    \n",
    "    def agregar_producto(self, nombre, precio, cantidad):\n",
    "\n",
    "        producto = self.producto_existe(nombre)\n",
    "        if producto:\n",
    "            indice = self.inventario.index(producto)\n",
    "            self.inventario[indice]['cantidad'] += cantidad\n",
    "            print(f\"La cantidad de '{nombre}' se ha actualizado en el inventario.\")\n",
    "        \n",
    "        # si el producto no existe (la lista producto estará vacía), se añade al inventario\n",
    "        else:\n",
    "            self.inventario.append({\n",
    "                'nombre': nombre,\n",
    "                'precio': precio,\n",
    "                'cantidad': cantidad}) \n",
    "            print(f\"El producto '{nombre}' se ha agregado al inventario con éxito.\")\n",
    "                    \n",
    "        return self.inventario            \n",
    "\n",
    "    \n",
    "# 2. ver_inventario(self) : Muestra el inventario de productos con sus detalles.\n",
    "    # Utiliza un bucle for para recorrer el inventario.\n",
    "    # Imprime los detalles (nombre, precio, cantidad) de cada producto.\n",
    "    # Debería verse:\n",
    "    # Nombre: Camisa, Precio: $20, Cantidad: 50\n",
    "    # Nombre: Pantalón, Precio: $30, Cantidad: 30\n",
    "    # Nombre: Zapatos, Precio: $50, Cantidad: 40\n",
    "    # Nombre: Camisa, Precio: $20, Cantidad: 50     \n",
    "    \n",
    "    def ver_inventario(self):\n",
    "        for producto in self.inventario:\n",
    "            print(f\"Nombre: {producto['nombre']}, Precio: {producto['precio']}€, Cantidad: {producto['cantidad']}\")\n",
    "        print(f\"\\nEl inventario consta de {len(self.inventario)} productos\")\n",
    "\n",
    "# 3. buscar_producto(self, nombre): Busca un producto en el inventario por nombre y muestra sus detalles si se encuentra. Debe recibir el nombre del producto como parámetro.\n",
    "    # Utiliza un bucle for para recorrer el inventario.\n",
    "    # Compara los nombres de los productos con el nombre proporcionado.\n",
    "    # Si se encuentra el producto, imprime sus detalles.\n",
    "    # Debe mostrar:\n",
    "    # Nombre: Camisa, Precio: $20, Cantidad: 40       \n",
    "\n",
    "    def buscar_producto(self, nombre): \n",
    "        producto = self.producto_existe(nombre)\n",
    "        if producto:\n",
    "            print(f\"Nombre: {producto['nombre']}, Precio: {producto['precio']}€, Cantidad: {producto['cantidad']}\")\n",
    "        else:\n",
    "            print(\"El producto no existe en el inventario.\")    \n",
    "\n",
    "# 4. actualizar_stock(self, nombre, cantidad) : Actualiza el stock de un producto en el inventario. Debe recibir el nombre del producto y la cantidad a agregar o quitar como parámetros.\n",
    "    # Utiliza un bucle for para recorrer el inventario.\n",
    "    # Busca el producto por nombre.\n",
    "    # Actualiza la cantidad según la entrada del usuario.\n",
    "    # Si el producto no esta en el inventario muestra un mensaje indicándolo.    \n",
    "\n",
    "    def actualizar_stock(self, nombre, cantidad):            \n",
    "        \n",
    "        producto = self.producto_existe(nombre)\n",
    "        if producto:\n",
    "            indice = self.inventario.index(producto)\n",
    "            self.inventario[indice]['cantidad'] += cantidad\n",
    "            print(f\"La cantidad de '{nombre}' se ha actualizado en el inventario.\")\n",
    "            return self.producto_existe(nombre)\n",
    "        \n",
    "        # si el producto no existe, producto sera False\n",
    "        else:\n",
    "            print(f\"El producto '{nombre}' no existe en el inventario. Introdúzcalo en el inventraio primero, por favor\")\n",
    "\n",
    "# 5. eliminar_producto(self, nombre): Elimina un producto del inventario por nombre.\n",
    "    # Debe recibir el nombre del producto como parámetro.\n",
    "    # Utiliza un bucle for para recorrer el inventario.\n",
    "    # Busca el producto por nombre.\n",
    "    # Elimina el producto del inventario si existe.\n",
    "    # Si el producto no esta en el inventario muestra un mensaje indicándolo.         \n",
    "\n",
    "    def eliminar_producto(self, nombre):         \n",
    "        \n",
    "        producto = self.producto_existe(nombre)\n",
    "        if producto:\n",
    "            indice = self.inventario.index(producto)\n",
    "            self.inventario.pop(indice)\n",
    "            print(f\"El producto '{nombre}' se ha eliminado del inventario.\")\n",
    "            return self.inventario\n",
    "        \n",
    "        # si el producto no existe (la lista producto estará vacía), se muestra un mensaje\n",
    "        else:\n",
    "            print(f\"El producto '{nombre}' no existe en el inventario.\") \n",
    "            return self.inventario                 \n",
    "\n",
    "# 6. calcular_valor_inventario(self): Calcula y muestra el valor total del inventario.\n",
    "    # Utiliza un bucle for para calcular el valor total del inventario.\n",
    "    # Itera a través del inventario y suma el valor de cada producto (precio x cantidad). Es decir,\n",
    "    # calcula el valor total del inventario. Ejemplo:\n",
    "    # # si tenemos 5 camisas que valen 5 euros\n",
    "    # # y 10 calcetines que valen 1 euro\n",
    "    # # este método te tiene que devolver: 35 euros\n",
    "    # valor_camisas = 5 * 5\n",
    "    # valor_calcetines = 10 * 1\n",
    "    # valor_camisas + valor_calcetines = 35        \n",
    "\n",
    "    def calcular_valor_inventario(self):     \n",
    "        \n",
    "        valor_inventario = 0\n",
    "\n",
    "        for producto in self.inventario:\n",
    "            valor_inventario += (producto['precio']*producto['cantidad'])\n",
    "\n",
    "        print(f\"EL valor total del inventario es de {valor_inventario}€\")\n",
    "        return valor_inventario\n",
    "\n",
    "# 7. buscar_producto_regex(self, patron): Busca productos en el inventario que coincidan con un patrón de búsqueda en formato regex en el nombre y muestra los resultados. Debe recibir el patrón como parámetro.\n",
    "    # Utiliza un bucle for para recorrer el inventario.\n",
    "    # Utiliza la función más apropiada para buscar coincidencias con el patrón de expresión regular.\n",
    "    # Agrega los productos encontrados a una lista y luego imprime sus detalles.    \n",
    "\n",
    "    def buscar_producto_regex(self, patron):\n",
    "        coincidencias = []\n",
    "\n",
    "        for producto in self.inventario:\n",
    "            resultado = re.findall(patron, producto['nombre'].lower())\n",
    "            if len(resultado) >= 1:\n",
    "                coincidencias.append(producto)\n",
    "                print(f\"Nombre: {producto['nombre']}, Precio: {producto['precio']}€, Cantidad: {producto['cantidad']}\")\n",
    "        print(f\"\\nSe han encontrado {len(coincidencias)} coincidencias\")\n",
    "        return coincidencias    \n",
    "    \n",
    "# 8. realizar_compra(self): Permite a un cliente realizar una compra seleccionando productos del inventario. Debe interactuar con el cliente para seleccionar productos y calcular el costo total de la compra.\n",
    "    # Utiliza un bucle while para permitir al cliente realizar múltiples compras.\n",
    "    # Muestra el inventario y solicita al cliente ingresar el nombre del producto que desea comprar.\n",
    "    # Registra los productos seleccionados en un carrito y actualiza el inventario.\n",
    "    # Calcula el costo total de la compra.\n",
    "\n",
    "    def realizar_compra(self):\n",
    "        seguir_comprando = 's'\n",
    "        carrito = []\n",
    "        importe = 0\n",
    "\n",
    "        while seguir_comprando  == 's':\n",
    "            nombre = input(f\"Ingresa el nombre del producto que quieres comprar? {self.inventario} \")\n",
    "            \n",
    "            producto = self.producto_existe(nombre)\n",
    "            if producto:\n",
    "                carrito.append(producto)\n",
    "                if producto['cantidad'] >= 1:\n",
    "                    self.actualizar_stock(nombre, -1)\n",
    "                    importe += producto['precio']\n",
    "                else:\n",
    "                    print(\"No hay stock suficiente del producto indicado.\")    \n",
    "            else:\n",
    "                print(\"El producto no existe en el inventario\")\n",
    "        \n",
    "            seguir_comprando = input(\"Quieres seguir comprando? s/n\").lower()        \n",
    "\n",
    "            while seguir_comprando != 's' and seguir_comprando != 'n':\n",
    "                seguir_comprando = input('No te hemos entendido. Quieres seguir comprando? s/n').lower()        \n",
    "\n",
    "        print(f\"Los productos comprados son: {carrito}.\\nEl importe total de la compra es de {importe}€\")\n",
    "        return carrito\n",
    "\n",
    "# 9. procesar_pago(self): Procesa el pago de una compra, calcula el cambio y muestra un mensaje de confirmación.\n",
    "    # Utiliza un bloque try...except para manejar excepciones.\n",
    "    # Solicita al cliente ingresar la cantidad total y la cantidad de pago usando un input.\n",
    "    # Calcula el cambio y muestra un mensaje de pago exitoso o un error en caso de monto insuficiente.   \n",
    "\n",
    "    def procesar_pago(self):\n",
    "        try:\n",
    "            pagar = float(input('Ingrese la cantidad a pagar, por favor:'))\n",
    "            total = float(input('Ingrese la cantidad total con la que va a pagar, por favor:'))\n",
    "            \n",
    "            cambio = total - pagar\n",
    "\n",
    "            if cambio >= 0:\n",
    "                print(f\"Pago realizado con éxito. Su cambio son: {cambio}€\")\n",
    "        \n",
    "            else:\n",
    "                print('No ha intrododucido dinero suficiente para realizar el pago. Vuelva a procesarlo, por favor')\n",
    "                \n",
    "        except TypeError:    \n",
    "            print('Debe introducir un número (los decimales han de indicarse con un punto). Vuelva a procesar su pago, por favor')\n",
    "\n",
    "        except: \n",
    "            print('Ha habido algún error con su pago. Vuelva a procesarlo de nuevo, por favor')\n",
    "        \n",
    "# 10. agregar_cliente(self, nombre, email): Agrega un nuevo cliente al registro de clientes. Debe recibir el nombre y el correo electrónico del cliente como parámetros.\n",
    "    # Agrega un cliente al diccionario de clientes con su nombre y correo electrónico.           \n",
    "\n",
    "    # clientes = {'Cliente1': {'email': 'cliente1@email.com', 'compras': []},'Cliente2': {'email': 'cliente2@email.com', 'compras': []}}          \n",
    "\n",
    "    def agregar_cliente(self, nombre, email):\n",
    "        if nombre in self.clientes:\n",
    "            print(f\"El cliente '{nombre}' ya existe en la cartera de clientes.\")\n",
    "        else:\n",
    "            self.clientes[nombre] = {\n",
    "                'email' : email,\n",
    "                'compras': []} \n",
    "            print(f\"El cliente '{nombre}' se ha añadido correctamente a la cartera de clientes \")   \n",
    "        return self.clientes \n",
    "    \n",
    "# 11. ver_clientes(self): Muestra la lista de clientes registrados con sus nombres y correos electrónicos.\n",
    "    # Utiliza un bucle for para recorrer la base de datos de clientes.\n",
    "    # Imprime los detalles de cada cliente (nombre y correo electrónico).    \n",
    "    \n",
    "    def ver_clientes(self):\n",
    "        for cliente, datos in self.clientes.items():\n",
    "            print(f\"Nombre: {cliente} --> Correo electrónico: {datos['email']}.\")\n",
    "        print(f\"\\nLa cartera de clientes consta de {len(self.clientes)} clientes\")\n",
    "\n",
    "# 12. registrar_compra(self, nombre_cliente, carrito): Registra una compra para un cliente, actualiza las ventas totales y agrega la compra al historial del cliente. Debe recibir el nombre del cliente y el carrito de compras como parámetros.\n",
    "    # Busca al cliente en el diccionario de clientes.\n",
    "    # Si el cliente no esta en el diccionario de clientes, muestra que no se puede realizar la acción por que el cliente no está en el diccionario.\n",
    "    # Calcula el total de la compra y registra la compra, incluyendo los productos y el total.\n",
    "    # Ejemplo:\n",
    "        # carrito_cliente1 = {\"Camisa\": {\"precio\": 20, \"cantidad\": 3}}\n",
    "        # tienda.registrar_compra(\"Cliente1\", carrito_cliente1) \n",
    "\n",
    "        # clientes = {'Cliente1': {'email': 'cliente1@email.com', 'compras': []},'Cliente2': {'email': 'cliente2@email.com', 'compras': []}}\n",
    "\n",
    "    def registrar_compra(self, nombre_cliente, carrito):\n",
    "        importe = 0\n",
    "        if nombre_cliente in self.clientes:\n",
    "            for elemento, valores in carrito.items():\n",
    "\n",
    "                importe_elemento = ((valores['cantidad'])*(valores['precio'])) \n",
    "\n",
    "                producto = self.producto_existe(elemento)\n",
    "                if producto:\n",
    "                    #Actualiza las compras del cliente\n",
    "                    self.clientes[nombre_cliente]['compras'].append({elemento : valores})                \n",
    "                \n",
    "                    #Actualiza ventas_totales\n",
    "                    self.ventas_totales += importe_elemento\n",
    "                \n",
    "                    #Actualiza importe de la compra\n",
    "                    importe += importe_elemento\n",
    "                    \n",
    "                    self.actualizar_stock(elemento, -(valores['cantidad']))\n",
    "\n",
    "                else:\n",
    "                    print(f\"El producto '{elemento}' no existe en el inventario\")\n",
    "        \n",
    "        else:\n",
    "            print(f\"El cliente '{nombre_cliente}' no existe en la cartera de clientes. Añádalo a la cartera de clientes antes de registrar una compra.\")\n",
    "\n",
    "        print(f\"Se ha actualizado la compra: {carrito}.\\nLas ventas totales quedan en {self.ventas_totales}€.\\nEl cliente '{nombre_cliente}' se ha a actualizado: {self.clientes[nombre_cliente]}.\\nEl importe total de la compra es de {importe}€.\")\n"
   ]
  },
  {
   "cell_type": "code",
   "execution_count": 56,
   "metadata": {},
   "outputs": [
    {
     "data": {
      "text/plain": [
       "{'nombre': 'Mannali', 'inventario': [], 'clientes': {}, 'ventas_totales': 0.0}"
      ]
     },
     "execution_count": 56,
     "metadata": {},
     "output_type": "execute_result"
    }
   ],
   "source": [
    "# Creamos una tienda (objeto/instancia de clase)\n",
    "tienda1 = TiendaOnline(\"Mannali\")\n",
    "tienda1.__dict__"
   ]
  },
  {
   "cell_type": "code",
   "execution_count": 57,
   "metadata": {},
   "outputs": [
    {
     "name": "stdout",
     "output_type": "stream",
     "text": [
      "El producto 'Crema deporte' se ha agregado al inventario con éxito.\n",
      "El producto 'Aceite' se ha agregado al inventario con éxito.\n",
      "El producto 'Crema facial' se ha agregado al inventario con éxito.\n",
      "El producto 'Crema cuerpo' se ha agregado al inventario con éxito.\n",
      "El producto 'Flores' se ha agregado al inventario con éxito.\n"
     ]
    },
    {
     "data": {
      "text/plain": [
       "[{'nombre': 'Crema deporte', 'precio': 46, 'cantidad': 15},\n",
       " {'nombre': 'Aceite', 'precio': 50, 'cantidad': 10},\n",
       " {'nombre': 'Crema facial', 'precio': 65, 'cantidad': 32.5},\n",
       " {'nombre': 'Crema cuerpo', 'precio': 63, 'cantidad': 2},\n",
       " {'nombre': 'Flores', 'precio': 105, 'cantidad': 38}]"
      ]
     },
     "execution_count": 57,
     "metadata": {},
     "output_type": "execute_result"
    }
   ],
   "source": [
    "# 1\n",
    "inventario1 = tienda1.agregar_producto(\"Crema deporte\", 46, 15)\n",
    "inventario1 = tienda1.agregar_producto(\"Aceite\", 50, 10)\n",
    "inventario1 = tienda1.agregar_producto(\"Crema facial\", 65, 32.5)\n",
    "inventario1 = tienda1.agregar_producto(\"Crema cuerpo\", 63, 2)\n",
    "inventario1 = tienda1.agregar_producto(\"Flores\", 105, 38)\n",
    "inventario1\n",
    "     "
   ]
  },
  {
   "cell_type": "code",
   "execution_count": 58,
   "metadata": {},
   "outputs": [
    {
     "name": "stdout",
     "output_type": "stream",
     "text": [
      "Nombre: Crema deporte, Precio: 46€, Cantidad: 15\n",
      "Nombre: Aceite, Precio: 50€, Cantidad: 10\n",
      "Nombre: Crema facial, Precio: 65€, Cantidad: 32.5\n",
      "Nombre: Crema cuerpo, Precio: 63€, Cantidad: 2\n",
      "Nombre: Flores, Precio: 105€, Cantidad: 38\n",
      "\n",
      "El inventario consta de 5 productos\n"
     ]
    }
   ],
   "source": [
    "# 2\n",
    "tienda1.ver_inventario()"
   ]
  },
  {
   "cell_type": "code",
   "execution_count": 59,
   "metadata": {},
   "outputs": [
    {
     "name": "stdout",
     "output_type": "stream",
     "text": [
      "El producto no existe en el inventario.\n"
     ]
    }
   ],
   "source": [
    "# 3\n",
    "tienda1.buscar_producto('Asceite')"
   ]
  },
  {
   "cell_type": "code",
   "execution_count": 60,
   "metadata": {},
   "outputs": [
    {
     "name": "stdout",
     "output_type": "stream",
     "text": [
      "La cantidad de 'Aceite' se ha actualizado en el inventario.\n"
     ]
    },
    {
     "data": {
      "text/plain": [
       "{'nombre': 'Aceite', 'precio': 50, 'cantidad': 8}"
      ]
     },
     "execution_count": 60,
     "metadata": {},
     "output_type": "execute_result"
    }
   ],
   "source": [
    "# 4\n",
    "tienda1.actualizar_stock('Aceite', -2)\n"
   ]
  },
  {
   "cell_type": "code",
   "execution_count": 61,
   "metadata": {},
   "outputs": [
    {
     "name": "stdout",
     "output_type": "stream",
     "text": [
      "El producto 'Crema Cuerpo' se ha eliminado del inventario.\n"
     ]
    },
    {
     "data": {
      "text/plain": [
       "[{'nombre': 'Crema deporte', 'precio': 46, 'cantidad': 15},\n",
       " {'nombre': 'Aceite', 'precio': 50, 'cantidad': 8},\n",
       " {'nombre': 'Crema facial', 'precio': 65, 'cantidad': 32.5},\n",
       " {'nombre': 'Flores', 'precio': 105, 'cantidad': 38}]"
      ]
     },
     "execution_count": 61,
     "metadata": {},
     "output_type": "execute_result"
    }
   ],
   "source": [
    "# 5 \n",
    "tienda1.eliminar_producto('Crema Cuerpo')"
   ]
  },
  {
   "cell_type": "code",
   "execution_count": 62,
   "metadata": {},
   "outputs": [
    {
     "name": "stdout",
     "output_type": "stream",
     "text": [
      "EL valor total del inventario es de 7192.5€\n"
     ]
    },
    {
     "data": {
      "text/plain": [
       "7192.5"
      ]
     },
     "execution_count": 62,
     "metadata": {},
     "output_type": "execute_result"
    }
   ],
   "source": [
    "# 6\n",
    "tienda1.calcular_valor_inventario()"
   ]
  },
  {
   "cell_type": "code",
   "execution_count": 63,
   "metadata": {},
   "outputs": [
    {
     "name": "stdout",
     "output_type": "stream",
     "text": [
      "Nombre: Crema deporte, Precio: 46€, Cantidad: 15\n",
      "Nombre: Crema facial, Precio: 65€, Cantidad: 32.5\n",
      "\n",
      "Se han encontrado 2 coincidencias\n"
     ]
    },
    {
     "data": {
      "text/plain": [
       "[{'nombre': 'Crema deporte', 'precio': 46, 'cantidad': 15},\n",
       " {'nombre': 'Crema facial', 'precio': 65, 'cantidad': 32.5}]"
      ]
     },
     "execution_count": 63,
     "metadata": {},
     "output_type": "execute_result"
    }
   ],
   "source": [
    "# 7\n",
    "cremas = tienda1.buscar_producto_regex('crema\\s\\w+')\n",
    "cremas"
   ]
  },
  {
   "cell_type": "code",
   "execution_count": 64,
   "metadata": {},
   "outputs": [
    {
     "name": "stdout",
     "output_type": "stream",
     "text": [
      "El producto no existe en el inventario\n",
      "Los productos comprados son: [].\n",
      "El importe total de la compra es de 0€\n"
     ]
    },
    {
     "data": {
      "text/plain": [
       "[]"
      ]
     },
     "execution_count": 64,
     "metadata": {},
     "output_type": "execute_result"
    }
   ],
   "source": [
    "# 8\n",
    "tienda1.realizar_compra()"
   ]
  },
  {
   "cell_type": "code",
   "execution_count": 65,
   "metadata": {},
   "outputs": [
    {
     "name": "stdout",
     "output_type": "stream",
     "text": [
      "Ha habido algún error con su pago. Vuelva a procesarlo de nuevo, por favor\n"
     ]
    }
   ],
   "source": [
    "# 9 \n",
    "tienda1.procesar_pago()"
   ]
  },
  {
   "cell_type": "code",
   "execution_count": 66,
   "metadata": {},
   "outputs": [
    {
     "name": "stdout",
     "output_type": "stream",
     "text": [
      "El cliente 'Sara' se ha añadido correctamente a la cartera de clientes \n",
      "El cliente 'Alex' se ha añadido correctamente a la cartera de clientes \n",
      "El cliente 'Kira' se ha añadido correctamente a la cartera de clientes \n"
     ]
    }
   ],
   "source": [
    "# 10\n",
    "clientes1 = tienda1.agregar_cliente('Sara', 'Sara@Karvala.net')\n",
    "clientes1 = tienda1.agregar_cliente('Alex', 'alexambit@estudifgh.net')\n",
    "clientes1 = tienda1.agregar_cliente('Kira', 'Kira@Karvala.net')"
   ]
  },
  {
   "cell_type": "code",
   "execution_count": 67,
   "metadata": {},
   "outputs": [
    {
     "name": "stdout",
     "output_type": "stream",
     "text": [
      "Nombre: Sara --> Correo electrónico: Sara@Karvala.net.\n",
      "Nombre: Alex --> Correo electrónico: alexambit@estudifgh.net.\n",
      "Nombre: Kira --> Correo electrónico: Kira@Karvala.net.\n",
      "\n",
      "La cartera de clientes consta de 3 clientes\n"
     ]
    }
   ],
   "source": [
    "# 11\n",
    "tienda1.ver_clientes()"
   ]
  },
  {
   "cell_type": "code",
   "execution_count": 69,
   "metadata": {},
   "outputs": [
    {
     "name": "stdout",
     "output_type": "stream",
     "text": [
      "El producto 'Crema cuerpo' no existe en el inventario\n",
      "La cantidad de 'Crema deporte' se ha actualizado en el inventario.\n",
      "La cantidad de 'Crema facial' se ha actualizado en el inventario.\n",
      "Se ha actualizado la compra: {'Crema cuerpo': {'precio': 50, 'cantidad': 3}, 'Crema deporte': {'precio': 50, 'cantidad': 3}, 'Crema facial': {'precio': 65, 'cantidad': 2}}.\n",
      "Las ventas totales quedan en 560.0 ventas.\n",
      "El cliente 'Sara' se ha a actualizado: {'email': 'Sara@Karvala.net', 'compras': [{'Aceite': {'precio': 50, 'cantidad': 3}}, {'Crema facial': {'precio': 65, 'cantidad': 2}}, {'Crema deporte': {'precio': 50, 'cantidad': 3}}, {'Crema facial': {'precio': 65, 'cantidad': 2}}]}.\n",
      "El importe total de la compra es de 280€.\n"
     ]
    }
   ],
   "source": [
    "# 12 'Crema facial2', 'precio': 65, 'cantidad': 32.5}\n",
    "tienda1.registrar_compra('Sara', {'Crema cuerpo': {'precio': 50, 'cantidad': 3}, 'Crema deporte': {'precio': 50, 'cantidad': 3}, 'Crema facial': {'precio': 65, 'cantidad': 2} })"
   ]
  },
  {
   "cell_type": "markdown",
   "metadata": {},
   "source": [
    "\n",
    "\n",
    "\n",
    "13. ver_compras_cliente(self, nombre_cliente) : Muestra el historial de compras\n",
    "de un cliente. Debe recibir el nombre del cliente como parámetro.\n",
    "Busca al cliente en el diccionario de clientes.\n",
    "Muestra las compras realizadas por el cliente, incluyendo detalles de productos y\n",
    "totales.\n",
    "14. calcular_ventas_totales(self) : Muestra las ventas totales de la tienda.\n",
    "Suma los totales de todas las compras realizadas y muestra el total de ventas totales en\n",
    "la tienda.\n",
    "Instrucciones Adicionales:\n",
    "Debes crear instancias de la clase TiendaOnline y probar cada uno de los métodos para\n",
    "demostrar que funcionan correctamente"
   ]
  }
 ],
 "metadata": {
  "kernelspec": {
   "display_name": "base",
   "language": "python",
   "name": "python3"
  },
  "language_info": {
   "codemirror_mode": {
    "name": "ipython",
    "version": 3
   },
   "file_extension": ".py",
   "mimetype": "text/x-python",
   "name": "python",
   "nbconvert_exporter": "python",
   "pygments_lexer": "ipython3",
   "version": "3.9.7"
  }
 },
 "nbformat": 4,
 "nbformat_minor": 2
}
